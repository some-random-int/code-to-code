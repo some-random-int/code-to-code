{
 "cells": [
  {
   "cell_type": "markdown",
   "metadata": {},
   "source": [
    "# Finetuned Model\n",
    "This file contains the code to finetune the `Salesforce/codet5p-220m` model. Evaluation will be done further down."
   ]
  },
  {
   "cell_type": "code",
   "execution_count": 5,
   "metadata": {},
   "outputs": [],
   "source": [
    "import os\n",
    "from transformers import AutoModelForSeq2SeqLM, AutoTokenizer, Seq2SeqTrainingArguments, Seq2SeqTrainer, GenerationConfig\n",
    "from utils import load_tokenize_data, get_compute_metrics_fn, get_comparison_values"
   ]
  },
  {
   "cell_type": "code",
   "execution_count": 6,
   "metadata": {
    "tags": [
     "parameters"
    ]
   },
   "outputs": [],
   "source": [
    "MODEL = 'Salesforce/codet5p-220m'\n",
    "DATA_SIZE = -1\n",
    "SAVE_PATH = 'saved_models/codet5p-test'\n",
    "MAX_LENGTH = 250"
   ]
  },
  {
   "cell_type": "markdown",
   "metadata": {},
   "source": [
    "## Load Model and Data"
   ]
  },
  {
   "cell_type": "code",
   "execution_count": 7,
   "metadata": {},
   "outputs": [
    {
     "name": "stderr",
     "output_type": "stream",
     "text": [
      "/home/random/miniconda3/envs/nlp/lib/python3.11/site-packages/huggingface_hub/file_download.py:1132: FutureWarning: `resume_download` is deprecated and will be removed in version 1.0.0. Downloads always resume when possible. If you want to force a new download, use `force_download=True`.\n",
      "  warnings.warn(\n"
     ]
    },
    {
     "name": "stdout",
     "output_type": "stream",
     "text": [
      "  ==> Loaded model from Salesforce/codet5p-220m, model size 222882048\n"
     ]
    },
    {
     "name": "stderr",
     "output_type": "stream",
     "text": [
      "Map (num_proc=64): 100%|██████████| 10300/10300 [00:11<00:00, 874.61 examples/s] \n",
      "Map (num_proc=64): 100%|██████████| 500/500 [00:08<00:00, 62.13 examples/s]\n",
      "Map (num_proc=64): 100%|██████████| 1000/1000 [00:04<00:00, 216.17 examples/s]\n"
     ]
    },
    {
     "name": "stdout",
     "output_type": "stream",
     "text": [
      "  ==> Loaded 3 datasets\n"
     ]
    },
    {
     "name": "stderr",
     "output_type": "stream",
     "text": [
      "Saving the dataset (1/1 shards): 100%|██████████| 10300/10300 [00:00<00:00, 43657.91 examples/s]\n",
      "Saving the dataset (1/1 shards): 100%|██████████| 500/500 [00:00<00:00, 8673.12 examples/s]\n",
      "Saving the dataset (1/1 shards): 100%|██████████| 1000/1000 [00:00<00:00, 27846.19 examples/s]\n"
     ]
    },
    {
     "name": "stdout",
     "output_type": "stream",
     "text": [
      "  ==> Saved to ./cache_data/code2code\n",
      "  ==> Loaded metrics fn\n"
     ]
    }
   ],
   "source": [
    "# Load model from `args.load`\n",
    "tokenizer = AutoTokenizer.from_pretrained(MODEL, model_max_length=MAX_LENGTH)\n",
    "model = AutoModelForSeq2SeqLM.from_pretrained(MODEL, trust_remote_code=True)\n",
    "model.config.decoder_start_token_id = tokenizer.bos_token_id\n",
    "model.config.pad_token_id = tokenizer.pad_token_id\n",
    "print(f\"  ==> Loaded model from {MODEL}, model size {model.num_parameters()}\")\n",
    "\n",
    "# load dataset\n",
    "data = load_tokenize_data(tokenizer, max_source_len=MAX_LENGTH, max_target_len=MAX_LENGTH, overwrite=True)\n",
    "\n",
    "if DATA_SIZE != -1:\n",
    "    data['train'] = data['train'].select([i for i in range(DATA_SIZE)])\n",
    "    data['test'] = data['test'].select([i for i in range(DATA_SIZE)])\n",
    "\n",
    "compute_metrics = get_compute_metrics_fn(tokenizer)\n",
    "print('  ==> Loaded metrics fn')"
   ]
  },
  {
   "cell_type": "markdown",
   "metadata": {},
   "source": [
    "## Training\n",
    "The `Seq2SeqTrainingArguments` contain the configuration while the `trainer.train()` method starts the training process. With the default configuration one epoch takes rufley around 6-10 minutes on a Nvidia RTX 4060 (16GB)."
   ]
  },
  {
   "cell_type": "code",
   "execution_count": 8,
   "metadata": {},
   "outputs": [
    {
     "name": "stderr",
     "output_type": "stream",
     "text": [
      "/home/random/miniconda3/envs/nlp/lib/python3.11/site-packages/accelerate/accelerator.py:444: FutureWarning: Passing the following arguments to `Accelerator` is deprecated and will be removed in version 1.0 of Accelerate: dict_keys(['dispatch_batches', 'split_batches']). Please pass an `accelerate.DataLoaderConfiguration` instead: \n",
      "dataloader_config = DataLoaderConfiguration(dispatch_batches=None, split_batches=False)\n",
      "  warnings.warn(\n"
     ]
    },
    {
     "data": {
      "text/html": [
       "\n",
       "    <div>\n",
       "      \n",
       "      <progress value='76' max='62' style='width:300px; height:20px; vertical-align: middle;'></progress>\n",
       "      [62/62 23:05]\n",
       "    </div>\n",
       "    "
      ],
      "text/plain": [
       "<IPython.core.display.HTML object>"
      ]
     },
     "metadata": {},
     "output_type": "display_data"
    },
    {
     "name": "stderr",
     "output_type": "stream",
     "text": [
      "Trainer is attempting to log a value of \"{'bleu': 0.0, 'precisions': [0.4732225645113523, 0.23615495694254665, 0.0026089297559540496, 0.0], 'brevity_penalty': 1.0, 'length_ratio': 1.175219402392771, 'translation_length': 361293, 'reference_length': 307426}\" of type <class 'dict'> for key \"eval/bleu\" as a scalar. This invocation of Tensorboard's writer.add_scalar() is incorrect so we dropped this attribute.\n",
      "Trainer is attempting to log a value of \"{'codebleu': 0.11888606363615359, 'ngram_match_score': 0, 'weighted_ngram_match_score': 0, 'syntax_match_score': 0.4161818481963752, 'dataflow_match_score': 0.05936240634823914}\" of type <class 'dict'> for key \"eval/codebleu\" as a scalar. This invocation of Tensorboard's writer.add_scalar() is incorrect so we dropped this attribute.\n"
     ]
    }
   ],
   "source": [
    "training_args = Seq2SeqTrainingArguments(\n",
    "    report_to='tensorboard',\n",
    "    output_dir=SAVE_PATH,\n",
    "    overwrite_output_dir=False,\n",
    "\n",
    "    do_train=True,\n",
    "    save_strategy='epoch',\n",
    "\n",
    "    evaluation_strategy='epoch',\n",
    "    predict_with_generate=True,\n",
    "    # generation_max_length=MAX_LENGTH,\n",
    "    generation_config=GenerationConfig(\n",
    "        max_length=MAX_LENGTH,\n",
    "        min_length=.5 * MAX_LENGTH,\n",
    "        bos_token_id = tokenizer.bos_token_id,\n",
    "        pad_token_id = tokenizer.pad_token_id\n",
    "    ),\n",
    "\n",
    "    num_train_epochs=10,\n",
    "    per_device_train_batch_size=8,\n",
    "    gradient_accumulation_steps=4,\n",
    "\n",
    "    learning_rate=5e-5,\n",
    "    weight_decay=0.05,\n",
    "    warmup_steps=200,\n",
    "\n",
    "    logging_dir=SAVE_PATH,\n",
    "    logging_first_step=True,\n",
    "    logging_steps=10,\n",
    "    save_total_limit=1,\n",
    "\n",
    "    dataloader_drop_last=True,\n",
    "    dataloader_num_workers=4,\n",
    "\n",
    "    local_rank=-1,\n",
    "    deepspeed=None,\n",
    "    fp16=False,\n",
    ")\n",
    "\n",
    "trainer = Seq2SeqTrainer(\n",
    "    model=model,\n",
    "    args=training_args,\n",
    "    train_dataset=data['train'],\n",
    "    compute_metrics=compute_metrics,\n",
    "    eval_dataset=data['validation']\n",
    ")\n",
    "\n",
    "pre_evaluation = trainer.evaluate(data['validation'], max_length=MAX_LENGTH)"
   ]
  },
  {
   "cell_type": "code",
   "execution_count": 9,
   "metadata": {},
   "outputs": [
    {
     "data": {
      "text/html": [
       "\n",
       "    <div>\n",
       "      \n",
       "      <progress value='322' max='3210' style='width:300px; height:20px; vertical-align: middle;'></progress>\n",
       "      [ 322/3210 08:57 < 1:20:48, 0.60 it/s, Epoch 1.00/10]\n",
       "    </div>\n",
       "    <table border=\"1\" class=\"dataframe\">\n",
       "  <thead>\n",
       " <tr style=\"text-align: left;\">\n",
       "      <th>Epoch</th>\n",
       "      <th>Training Loss</th>\n",
       "      <th>Validation Loss</th>\n",
       "    </tr>\n",
       "  </thead>\n",
       "  <tbody>\n",
       "  </tbody>\n",
       "</table><p>"
      ],
      "text/plain": [
       "<IPython.core.display.HTML object>"
      ]
     },
     "metadata": {},
     "output_type": "display_data"
    }
   ],
   "source": [
    "# do training\n",
    "trainer.train()\n",
    "\n",
    "final_checkpoint_dir = os.path.join(SAVE_PATH, \"final_checkpoint\")\n",
    "model.save_pretrained(final_checkpoint_dir)\n",
    "print(f'  ==> Finish training and save to {final_checkpoint_dir}')"
   ]
  },
  {
   "cell_type": "markdown",
   "metadata": {},
   "source": [
    "## Evaluation"
   ]
  },
  {
   "cell_type": "code",
   "execution_count": null,
   "metadata": {},
   "outputs": [
    {
     "data": {
      "image/png": "[encoded data removed]",
      "text/plain": [
       "<Figure size 1000x500 with 1 Axes>"
      ]
     },
     "metadata": {},
     "output_type": "display_data"
    }
   ],
   "source": [
    "import matplotlib.pyplot as plt\n",
    "\n",
    "history = trainer.state.log_history\n",
    "\n",
    "plt.figure(figsize=(10, 5))\n",
    "plt.plot([data['epoch'] for data in history if 'loss' in data], [data['loss'] for data in history if 'loss' in data], label='loss')\n",
    "plt.plot([data['epoch'] for data in history if 'eval_loss' in data], [data['eval_loss'] for data in history if 'eval_loss' in data], label='eval_loss')\n",
    "plt.title('losses')\n",
    "plt.xlabel('epoch')\n",
    "plt.legend()\n",
    "plt.grid()\n",
    "plt.savefig(SAVE_PATH + '/loss.png')"
   ]
  },
  {
   "cell_type": "code",
   "execution_count": null,
   "metadata": {},
   "outputs": [
    {
     "data": {
      "image/png": "[encoded data removed]",
      "text/plain": [
       "<Figure size 1000x500 with 1 Axes>"
      ]
     },
     "metadata": {},
     "output_type": "display_data"
    }
   ],
   "source": [
    "eval_history = [data for data in history if 'eval_loss' in data]\n",
    "\n",
    "plt.figure(figsize=(10, 5))\n",
    "\n",
    "c_models, c_bleus = get_comparison_values('CodeBLEU')\n",
    "plt.scatter([10 for i in c_bleus], c_bleus,  label='CodeBLEU')\n",
    "for i, txt in enumerate(c_models):\n",
    "    plt.annotate(txt, (10, c_bleus[i]))\n",
    "\n",
    "plt.plot([data['epoch'] for data in eval_history], [data['eval_bleu']['bleu'] for data in eval_history], label='BLEU')\n",
    "plt.plot([data['epoch'] for data in eval_history], [data['eval_codebleu']['codebleu'] for data in eval_history], label='CodeBLEU')\n",
    "\n",
    "plt.title('BLEU scores')\n",
    "plt.xlabel('epoch')\n",
    "plt.legend()\n",
    "plt.grid()\n",
    "plt.savefig(SAVE_PATH + '/bleu.png')"
   ]
  },
  {
   "cell_type": "code",
   "execution_count": null,
   "metadata": {},
   "outputs": [
    {
     "name": "stdout",
     "output_type": "stream",
     "text": [
      "DatasetDict({\n",
      "    train: Dataset({\n",
      "        features: ['id', 'java', 'cs'],\n",
      "        num_rows: 10300\n",
      "    })\n",
      "    validation: Dataset({\n",
      "        features: ['id', 'java', 'cs'],\n",
      "        num_rows: 500\n",
      "    })\n",
      "    test: Dataset({\n",
      "        features: ['id', 'java', 'cs'],\n",
      "        num_rows: 1000\n",
      "    })\n",
      "})\n",
      "1398\n"
     ]
    }
   ],
   "source": [
    "from datasets import load_dataset\n",
    "datasets = load_dataset(\"code_x_glue_cc_code_to_code_trans\")\n",
    "print(datasets)\n",
    "print(len(max(datasets['train'], key=lambda x: len(x['java']))['java']))"
   ]
  },
  {
   "cell_type": "code",
   "execution_count": null,
   "metadata": {},
   "outputs": [
    {
     "name": "stderr",
     "output_type": "stream",
     "text": [
      "Trainer is attempting to log a value of \"{'bleu': 0.08432722973400353, 'precisions': [0.1411016877135136, 0.0915158116776458, 0.07291025212449637, 0.05370990561813851], 'brevity_penalty': 1.0, 'length_ratio': 2.6108004969826055, 'translation_length': 58837, 'reference_length': 22536}\" of type <class 'dict'> for key \"eval/bleu\" as a scalar. This invocation of Tensorboard's writer.add_scalar() is incorrect so we dropped this attribute.\n",
      "Trainer is attempting to log a value of \"{'codebleu': 0.24629220031450522, 'ngram_match_score': 0.002119331067831633, 'weighted_ngram_match_score': 0.01713642740182499, 'syntax_match_score': 0.141012909632572, 'dataflow_match_score': 0.8249001331557922}\" of type <class 'dict'> for key \"eval/codebleu\" as a scalar. This invocation of Tensorboard's writer.add_scalar() is incorrect so we dropped this attribute.\n"
     ]
    },
    {
     "name": "stdout",
     "output_type": "stream",
     "text": [
      "{'eval_loss': 0.3058934211730957, 'eval_bleu': {'bleu': 0.08432722973400353, 'precisions': [0.1411016877135136, 0.0915158116776458, 0.07291025212449637, 0.05370990561813851], 'brevity_penalty': 1.0, 'length_ratio': 2.6108004969826055, 'translation_length': 58837, 'reference_length': 22536}, 'eval_codebleu': {'codebleu': 0.24629220031450522, 'ngram_match_score': 0.002119331067831633, 'weighted_ngram_match_score': 0.01713642740182499, 'syntax_match_score': 0.141012909632572, 'dataflow_match_score': 0.8249001331557922}, 'eval_runtime': 64.8724, 'eval_samples_per_second': 15.415, 'eval_steps_per_second': 1.927, 'epoch': 9.98}\n"
     ]
    }
   ],
   "source": [
    "evaluation = trainer.evaluate(data['test'], max_length=20)\n",
    "print(evaluation)"
   ]
  },
  {
   "cell_type": "code",
   "execution_count": 19,
   "metadata": {},
   "outputs": [
    {
     "name": "stderr",
     "output_type": "stream",
     "text": [
      "/home/random/miniconda3/envs/nlp/lib/python3.11/site-packages/accelerate/accelerator.py:444: FutureWarning: Passing the following arguments to `Accelerator` is deprecated and will be removed in version 1.0 of Accelerate: dict_keys(['dispatch_batches', 'split_batches']). Please pass an `accelerate.DataLoaderConfiguration` instead: \n",
      "dataloader_config = DataLoaderConfiguration(dispatch_batches=None, split_batches=False)\n",
      "  warnings.warn(\n"
     ]
    },
    {
     "data": {
      "text/html": [
       "\n",
       "    <div>\n",
       "      \n",
       "      <progress value='1' max='1' style='width:300px; height:20px; vertical-align: middle;'></progress>\n",
       "      [1/1 : < :]\n",
       "    </div>\n",
       "    "
      ],
      "text/plain": [
       "<IPython.core.display.HTML object>"
      ]
     },
     "metadata": {},
     "output_type": "display_data"
    },
    {
     "name": "stderr",
     "output_type": "stream",
     "text": [
      "Trainer is attempting to log a value of \"{'bleu': 0.17052874218498862, 'precisions': [0.5307486631016043, 0.45135135135135135, 0.41120218579234974, 0.3784530386740331], 'brevity_penalty': 0.388087649471391, 'length_ratio': 0.5137362637362637, 'translation_length': 748, 'reference_length': 1456}\" of type <class 'dict'> for key \"eval/bleu\" as a scalar. This invocation of Tensorboard's writer.add_scalar() is incorrect so we dropped this attribute.\n",
      "Trainer is attempting to log a value of \"{'codebleu': 0.30394005215876924, 'ngram_match_score': 0.28882697771731025, 'weighted_ngram_match_score': 0.5850664061014509, 'syntax_match_score': 0.18763796909492272, 'dataflow_match_score': 0.15422885572139303}\" of type <class 'dict'> for key \"eval/codebleu\" as a scalar. This invocation of Tensorboard's writer.add_scalar() is incorrect so we dropped this attribute.\n"
     ]
    },
    {
     "name": "stdout",
     "output_type": "stream",
     "text": [
      "{'eval_loss': 0.4715164303779602, 'eval_bleu': {'bleu': 0.17052874218498862, 'precisions': [0.5307486631016043, 0.45135135135135135, 0.41120218579234974, 0.3784530386740331], 'brevity_penalty': 0.388087649471391, 'length_ratio': 0.5137362637362637, 'translation_length': 748, 'reference_length': 1456}, 'eval_codebleu': {'codebleu': 0.30394005215876924, 'ngram_match_score': 0.28882697771731025, 'weighted_ngram_match_score': 0.5850664061014509, 'syntax_match_score': 0.18763796909492272, 'dataflow_match_score': 0.15422885572139303}, 'eval_runtime': 4.8776, 'eval_samples_per_second': 2.05, 'eval_steps_per_second': 0.41}\n"
     ]
    }
   ],
   "source": [
    "\n",
    "from utils import load_tokenize_data, get_compute_metrics_fn\n",
    "\n",
    "compute_metrics = get_compute_metrics_fn(tokenizer)\n",
    "\n",
    "model = AutoModelForSeq2SeqLM.from_pretrained('saved_models/codet5p-tuned/final_checkpoint', trust_remote_code=True)\n",
    "model.config.decoder_start_token_id = tokenizer.bos_token_id\n",
    "model.config.pad_token_id = tokenizer.pad_token_id\n",
    "\n",
    "trainer = Seq2SeqTrainer(\n",
    "    model=model,\n",
    "    args=training_args,\n",
    "    train_dataset=data['train'],\n",
    "    compute_metrics=compute_metrics,\n",
    "    eval_dataset=data['validation']\n",
    ")\n",
    "\n",
    "evaluation = trainer.evaluate(data['test'].select([i for i in range(10)]), max_length=MAX_LENGTH)\n",
    "print(evaluation)"
   ]
  },
  {
   "cell_type": "markdown",
   "metadata": {},
   "source": []
  },
  {
   "cell_type": "markdown",
   "metadata": {},
   "source": []
  },
  {
   "cell_type": "code",
   "execution_count": null,
   "metadata": {},
   "outputs": [
    {
     "name": "stdout",
     "output_type": "stream",
     "text": [
      "public static void hello_world() { System.out.println(\"Hello World\"); }public static void hello_world_1() { System.out.println(\"Hello World 1\"); }\n",
      "\n"
     ]
    }
   ],
   "source": [
    "test_input = \"public static void hello_world() { System.out.println(\\\"Hello World\\\"); }\"\n",
    "encoding = tokenizer(test_input, return_tensors=\"pt\").to('cuda')\n",
    "encoding['decoder_input_ids'] = encoding['input_ids'].clone()\n",
    "\n",
    "outputs = model.generate(**encoding, max_length=100)\n",
    "print(tokenizer.decode(outputs[0], skip_special_tokens=True))"
   ]
  },
  {
   "cell_type": "code",
   "execution_count": 15,
   "metadata": {},
   "outputs": [
    {
     "data": {
      "text/plain": [
       "T5Config {\n",
       "  \"_name_or_path\": \"Salesforce/codet5p-220m\",\n",
       "  \"architectures\": [\n",
       "    \"T5ForConditionalGeneration\"\n",
       "  ],\n",
       "  \"bos_token_id\": 1,\n",
       "  \"classifier_dropout\": 0.0,\n",
       "  \"d_ff\": 3072,\n",
       "  \"d_kv\": 64,\n",
       "  \"d_model\": 768,\n",
       "  \"decoder_start_token_id\": 1,\n",
       "  \"dense_act_fn\": \"relu\",\n",
       "  \"dropout_rate\": 0.1,\n",
       "  \"eos_token_id\": 2,\n",
       "  \"feed_forward_proj\": \"relu\",\n",
       "  \"initializer_factor\": 1.0,\n",
       "  \"is_encoder_decoder\": true,\n",
       "  \"is_gated_act\": false,\n",
       "  \"layer_norm_epsilon\": 1e-06,\n",
       "  \"model_type\": \"t5\",\n",
       "  \"n_positions\": 512,\n",
       "  \"num_decoder_layers\": 12,\n",
       "  \"num_heads\": 12,\n",
       "  \"num_layers\": 12,\n",
       "  \"output_past\": true,\n",
       "  \"pad_token_id\": 0,\n",
       "  \"relative_attention_max_distance\": 128,\n",
       "  \"relative_attention_num_buckets\": 32,\n",
       "  \"torch_dtype\": \"float16\",\n",
       "  \"transformers_version\": \"4.37.2\",\n",
       "  \"use_cache\": true,\n",
       "  \"vocab_size\": 32100\n",
       "}"
      ]
     },
     "execution_count": 15,
     "metadata": {},
     "output_type": "execute_result"
    }
   ],
   "source": [
    "model.config"
   ]
  }
 ],
 "metadata": {
  "kernelspec": {
   "display_name": "Python 3 (ipykernel)",
   "language": "python",
   "name": "python3"
  },
  "language_info": {
   "codemirror_mode": {
    "name": "ipython",
    "version": 3
   },
   "file_extension": ".py",
   "mimetype": "text/x-python",
   "name": "python",
   "nbconvert_exporter": "python",
   "pygments_lexer": "ipython3",
   "version": "3.11.9"
  }
 },
 "nbformat": 4,
 "nbformat_minor": 2
}
